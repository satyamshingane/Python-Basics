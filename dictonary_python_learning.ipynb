{
 "cells": [
  {
   "cell_type": "code",
   "execution_count": 1,
   "id": "6f5307f4",
   "metadata": {},
   "outputs": [],
   "source": [
    "#Dictionaries in python\n"
   ]
  },
  {
   "cell_type": "code",
   "execution_count": 3,
   "id": "df2bc73e",
   "metadata": {},
   "outputs": [],
   "source": [
    "phone_number = {                # creating a dictionary {'Ram': 1911, 'Shyam': 1912, 'Madhav': 1913, 'Mohan': 1914}\n",
    "                 'Ram':1911,    # on separate line for readability.can be written in one line also.\n",
    "                 'Shyam':1912,\n",
    "                 'Madhav':1913,\n",
    "                 'Mohan':1914\n",
    "                } "
   ]
  },
  {
   "cell_type": "code",
   "execution_count": 4,
   "id": "641d4ce2",
   "metadata": {},
   "outputs": [
    {
     "data": {
      "text/plain": [
       "{'Ram': 1911, 'Shyam': 1912, 'Madhav': 1913, 'Mohan': 1914}"
      ]
     },
     "execution_count": 4,
     "metadata": {},
     "output_type": "execute_result"
    }
   ],
   "source": [
    "phone_number# printing the dictionary (keys and values)"
   ]
  },
  {
   "cell_type": "code",
   "execution_count": 5,
   "id": "26ce67a8",
   "metadata": {},
   "outputs": [],
   "source": [
    "sr_no = {} # creating a blank dictionary"
   ]
  },
  {
   "cell_type": "code",
   "execution_count": 16,
   "id": "e0381f58",
   "metadata": {},
   "outputs": [
    {
     "data": {
      "text/plain": [
       "1915"
      ]
     },
     "execution_count": 16,
     "metadata": {},
     "output_type": "execute_result"
    }
   ],
   "source": [
    "phone_number['Ram'] #printing phone number of a key ('Ram')"
   ]
  },
  {
   "cell_type": "code",
   "execution_count": 15,
   "id": "0af3a037",
   "metadata": {},
   "outputs": [
    {
     "data": {
      "text/plain": [
       "dict"
      ]
     },
     "execution_count": 15,
     "metadata": {},
     "output_type": "execute_result"
    }
   ],
   "source": [
    "type(sr_no) # checking the type of varaible"
   ]
  },
  {
   "cell_type": "code",
   "execution_count": 10,
   "id": "d8ecfcc7",
   "metadata": {},
   "outputs": [
    {
     "data": {
      "text/plain": [
       "{}"
      ]
     },
     "execution_count": 10,
     "metadata": {},
     "output_type": "execute_result"
    }
   ],
   "source": [
    "sr_no"
   ]
  },
  {
   "cell_type": "code",
   "execution_count": 11,
   "id": "4f515983",
   "metadata": {},
   "outputs": [],
   "source": [
    "phone_number = {                #assigning two different values to the same key\n",
    "                 'Ram':1911,    \n",
    "                 'Shyam':1912,\n",
    "                 'Madhav':1913,\n",
    "                 'Mohan':1914,\n",
    "                 'Ram':1915\n",
    "                } "
   ]
  },
  {
   "cell_type": "code",
   "execution_count": 12,
   "id": "a30e852b",
   "metadata": {},
   "outputs": [
    {
     "data": {
      "text/plain": [
       "1915"
      ]
     },
     "execution_count": 12,
     "metadata": {},
     "output_type": "execute_result"
    }
   ],
   "source": [
    "phone_number['Ram'] #output is the last value assigned"
   ]
  },
  {
   "cell_type": "code",
   "execution_count": 18,
   "id": "c0fb9c80",
   "metadata": {},
   "outputs": [],
   "source": [
    "phone_number['Mohan'] = 1900 #overwritting phone number of 'Mohan'"
   ]
  },
  {
   "cell_type": "code",
   "execution_count": 19,
   "id": "b117140b",
   "metadata": {},
   "outputs": [
    {
     "data": {
      "text/plain": [
       "1900"
      ]
     },
     "execution_count": 19,
     "metadata": {},
     "output_type": "execute_result"
    }
   ],
   "source": [
    "phone_number['Mohan']"
   ]
  },
  {
   "cell_type": "code",
   "execution_count": 20,
   "id": "12fb6a4d",
   "metadata": {},
   "outputs": [],
   "source": [
    "phone_number['Shyam']=[2000,2001,2002] # assigning a list to a value"
   ]
  },
  {
   "cell_type": "code",
   "execution_count": 21,
   "id": "20e8770d",
   "metadata": {},
   "outputs": [
    {
     "data": {
      "text/plain": [
       "{'Ram': 1915, 'Shyam': [2000, 2001, 2002], 'Madhav': 1913, 'Mohan': 1900}"
      ]
     },
     "execution_count": 21,
     "metadata": {},
     "output_type": "execute_result"
    }
   ],
   "source": [
    "phone_number"
   ]
  },
  {
   "cell_type": "code",
   "execution_count": 23,
   "id": "d08d00af",
   "metadata": {},
   "outputs": [],
   "source": [
    "phone_number['Shyam']= {'Home':2000,             # assigning a dictionary to a value\n",
    "                        'Office':2001,\n",
    "                         'Private':2001}"
   ]
  },
  {
   "cell_type": "code",
   "execution_count": 24,
   "id": "4574b571",
   "metadata": {},
   "outputs": [
    {
     "data": {
      "text/plain": [
       "{'Ram': 1915,\n",
       " 'Shyam': {'Home': 2000, 'Office': 2001, 'private': 2001},\n",
       " 'Madhav': 1913,\n",
       " 'Mohan': 1900}"
      ]
     },
     "execution_count": 24,
     "metadata": {},
     "output_type": "execute_result"
    }
   ],
   "source": [
    "phone_number"
   ]
  },
  {
   "cell_type": "code",
   "execution_count": 25,
   "id": "810ed0c0",
   "metadata": {},
   "outputs": [
    {
     "data": {
      "text/plain": [
       "2001"
      ]
     },
     "execution_count": 25,
     "metadata": {},
     "output_type": "execute_result"
    }
   ],
   "source": [
    "phone_number['Shyam']['Office']"
   ]
  },
  {
   "cell_type": "code",
   "execution_count": 27,
   "id": "3f370647",
   "metadata": {},
   "outputs": [
    {
     "data": {
      "text/plain": [
       "4"
      ]
     },
     "execution_count": 27,
     "metadata": {},
     "output_type": "execute_result"
    }
   ],
   "source": [
    "len(phone_number) # no. of elements ( key-value pairs) \n"
   ]
  },
  {
   "cell_type": "code",
   "execution_count": 47,
   "id": "ffeb3d03",
   "metadata": {},
   "outputs": [
    {
     "data": {
      "text/plain": [
       "dict_keys(['Ram', 'Shyam', 'Madhav'])"
      ]
     },
     "execution_count": 47,
     "metadata": {},
     "output_type": "execute_result"
    }
   ],
   "source": [
    "phone_number.keys()"
   ]
  },
  {
   "cell_type": "code",
   "execution_count": 48,
   "id": "f27a8c5d",
   "metadata": {},
   "outputs": [
    {
     "data": {
      "text/plain": [
       "dict_values([1915, {'Home': 2000, 'Office': 2001}, 1913])"
      ]
     },
     "execution_count": 48,
     "metadata": {},
     "output_type": "execute_result"
    }
   ],
   "source": [
    "phone_number.values()"
   ]
  },
  {
   "cell_type": "code",
   "execution_count": 49,
   "id": "e9363f87",
   "metadata": {},
   "outputs": [
    {
     "data": {
      "text/plain": [
       "dict_items([('Ram', 1915), ('Shyam', {'Home': 2000, 'Office': 2001}), ('Madhav', 1913)])"
      ]
     },
     "execution_count": 49,
     "metadata": {},
     "output_type": "execute_result"
    }
   ],
   "source": [
    "phone_number.items()"
   ]
  },
  {
   "cell_type": "code",
   "execution_count": 50,
   "id": "5b3e9279",
   "metadata": {},
   "outputs": [
    {
     "ename": "KeyError",
     "evalue": "'Mohan'",
     "output_type": "error",
     "traceback": [
      "\u001b[1;31m---------------------------------------------------------------------------\u001b[0m",
      "\u001b[1;31mKeyError\u001b[0m                                  Traceback (most recent call last)",
      "Cell \u001b[1;32mIn[50], line 1\u001b[0m\n\u001b[1;32m----> 1\u001b[0m \u001b[38;5;28;01mdel\u001b[39;00m phone_number[\u001b[38;5;124m'\u001b[39m\u001b[38;5;124mMohan\u001b[39m\u001b[38;5;124m'\u001b[39m]\n",
      "\u001b[1;31mKeyError\u001b[0m: 'Mohan'"
     ]
    }
   ],
   "source": [
    "del phone_number['Mohan'] # no dot after del.deleting a key-value pair"
   ]
  },
  {
   "cell_type": "code",
   "execution_count": 51,
   "id": "91569695",
   "metadata": {},
   "outputs": [
    {
     "data": {
      "text/plain": [
       "{'Ram': 1915, 'Shyam': {'Home': 2000, 'Office': 2001}, 'Madhav': 1913}"
      ]
     },
     "execution_count": 51,
     "metadata": {},
     "output_type": "execute_result"
    }
   ],
   "source": [
    "phone_number"
   ]
  },
  {
   "cell_type": "code",
   "execution_count": 52,
   "id": "81a0743c",
   "metadata": {},
   "outputs": [
    {
     "ename": "KeyError",
     "evalue": "'Private'",
     "output_type": "error",
     "traceback": [
      "\u001b[1;31m---------------------------------------------------------------------------\u001b[0m",
      "\u001b[1;31mKeyError\u001b[0m                                  Traceback (most recent call last)",
      "Cell \u001b[1;32mIn[52], line 1\u001b[0m\n\u001b[1;32m----> 1\u001b[0m \u001b[38;5;28;01mdel\u001b[39;00m phone_number[\u001b[38;5;124m'\u001b[39m\u001b[38;5;124mShyam\u001b[39m\u001b[38;5;124m'\u001b[39m][\u001b[38;5;124m'\u001b[39m\u001b[38;5;124mPrivate\u001b[39m\u001b[38;5;124m'\u001b[39m]\n",
      "\u001b[1;31mKeyError\u001b[0m: 'Private'"
     ]
    }
   ],
   "source": [
    "del phone_number['Shyam']['Private'] # deleting a nested key-value pair"
   ]
  },
  {
   "cell_type": "code",
   "execution_count": 55,
   "id": "358c053a",
   "metadata": {},
   "outputs": [
    {
     "data": {
      "text/plain": [
       "{'Ram': 1915, 'Shyam': {'Home': 2000, 'Office': 2001}, 'Madhav': 1913}"
      ]
     },
     "execution_count": 55,
     "metadata": {},
     "output_type": "execute_result"
    }
   ],
   "source": [
    "phone_number"
   ]
  },
  {
   "cell_type": "code",
   "execution_count": 59,
   "id": "e496865a",
   "metadata": {},
   "outputs": [
    {
     "name": "stdout",
     "output_type": "stream",
     "text": [
      "Ram\n",
      "1915\n",
      "Shyam\n",
      "{'Home': 2000, 'Office': 2001}\n",
      "Madhav\n",
      "1913\n"
     ]
    }
   ],
   "source": [
    "for i in phone_number:\n",
    "    print(i)   \n",
    "    print(phone_number[i])"
   ]
  },
  {
   "cell_type": "code",
   "execution_count": null,
   "id": "a9b564b3",
   "metadata": {},
   "outputs": [],
   "source": []
  },
  {
   "cell_type": "code",
   "execution_count": null,
   "id": "bbf5d306",
   "metadata": {},
   "outputs": [],
   "source": []
  },
  {
   "cell_type": "code",
   "execution_count": null,
   "id": "12b5cf3d",
   "metadata": {},
   "outputs": [],
   "source": []
  }
 ],
 "metadata": {
  "kernelspec": {
   "display_name": "Python 3 (ipykernel)",
   "language": "python",
   "name": "python3"
  },
  "language_info": {
   "codemirror_mode": {
    "name": "ipython",
    "version": 3
   },
   "file_extension": ".py",
   "mimetype": "text/x-python",
   "name": "python",
   "nbconvert_exporter": "python",
   "pygments_lexer": "ipython3",
   "version": "3.11.5"
  }
 },
 "nbformat": 4,
 "nbformat_minor": 5
}
