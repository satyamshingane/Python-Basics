{
 "cells": [
  {
   "cell_type": "code",
   "execution_count": 2,
   "id": "f9e6c4ee",
   "metadata": {},
   "outputs": [
    {
     "data": {
      "text/plain": [
       "['Shree Ganesh', 'Narayan Narayan', 11, 1978, 13.7]"
      ]
     },
     "execution_count": 2,
     "metadata": {},
     "output_type": "execute_result"
    }
   ],
   "source": [
    "# LISTS\n",
    "#List is a heterogenious data structure , it can also contain homogeneous data\n",
    "\n",
    "list_demo = ['Shree Ganesh', \"Narayan Narayan\",11,1978,13.7] #creating a list\n",
    "list_demo # printing a list. we can aslo use print(list_demo)\n"
   ]
  },
  {
   "cell_type": "code",
   "execution_count": 3,
   "id": "12b3104d",
   "metadata": {},
   "outputs": [
    {
     "name": "stdout",
     "output_type": "stream",
     "text": [
      "['Shree Ganesh', 'Narayan Narayan', 11, 1978, 13.7]\n"
     ]
    }
   ],
   "source": [
    "print(list_demo)"
   ]
  },
  {
   "cell_type": "code",
   "execution_count": 4,
   "id": "6a329e7f",
   "metadata": {},
   "outputs": [
    {
     "data": {
      "text/plain": [
       "'Shree Ganesh'"
      ]
     },
     "execution_count": 4,
     "metadata": {},
     "output_type": "execute_result"
    }
   ],
   "source": [
    "list_demo[0] #printing  n elements (zeroth in this case). this is called 'slicing'\n"
   ]
  },
  {
   "cell_type": "code",
   "execution_count": 5,
   "id": "3f6bfea5",
   "metadata": {},
   "outputs": [
    {
     "data": {
      "text/plain": [
       "13.7"
      ]
     },
     "execution_count": 5,
     "metadata": {},
     "output_type": "execute_result"
    }
   ],
   "source": [
    "list_demo[-1]# revesrse slicing.the last element is -1 st element in reverse slicing"
   ]
  },
  {
   "cell_type": "code",
   "execution_count": 6,
   "id": "f851531d",
   "metadata": {},
   "outputs": [
    {
     "data": {
      "text/plain": [
       "5"
      ]
     },
     "execution_count": 6,
     "metadata": {},
     "output_type": "execute_result"
    }
   ],
   "source": [
    "len(list_demo) # length of the list i.e how many elements are there"
   ]
  },
  {
   "cell_type": "code",
   "execution_count": 7,
   "id": "96181457",
   "metadata": {},
   "outputs": [
    {
     "data": {
      "text/plain": [
       "['Shree Ganesh', 'Narayan Narayan', 11, 1978]"
      ]
     },
     "execution_count": 7,
     "metadata": {},
     "output_type": "execute_result"
    }
   ],
   "source": [
    "list_demo[:4]# prinitng range of elements.it has taken zeroth element as the start of range by default"
   ]
  },
  {
   "cell_type": "code",
   "execution_count": 9,
   "id": "f6b2e71f",
   "metadata": {},
   "outputs": [
    {
     "data": {
      "text/plain": [
       "['Narayan Narayan', 1978]"
      ]
     },
     "execution_count": 9,
     "metadata": {},
     "output_type": "execute_result"
    }
   ],
   "source": [
    "list_demo[1:4:2]# here 2 is interval"
   ]
  },
  {
   "cell_type": "code",
   "execution_count": 10,
   "id": "75c6b672",
   "metadata": {},
   "outputs": [],
   "source": [
    "list_of_numbers = [1195, 11.34, 67, 7560, 1.03, 9090, 1000] #new list"
   ]
  },
  {
   "cell_type": "code",
   "execution_count": 11,
   "id": "8224dd89",
   "metadata": {},
   "outputs": [
    {
     "data": {
      "text/plain": [
       "11.34"
      ]
     },
     "execution_count": 11,
     "metadata": {},
     "output_type": "execute_result"
    }
   ],
   "source": [
    "list_of_numbers[1] # value at the 1st index"
   ]
  },
  {
   "cell_type": "code",
   "execution_count": 34,
   "id": "89d78405",
   "metadata": {},
   "outputs": [
    {
     "data": {
      "text/plain": [
       "<function list.sort(*, key=None, reverse=False)>"
      ]
     },
     "execution_count": 34,
     "metadata": {},
     "output_type": "execute_result"
    }
   ],
   "source": [
    "list_of_numbers.sort # for sorting the list.default is acsending"
   ]
  },
  {
   "cell_type": "code",
   "execution_count": 35,
   "id": "ab5285cc",
   "metadata": {},
   "outputs": [
    {
     "data": {
      "text/plain": [
       "[1.03, 11.34, 67, 1000, 1195, 7560, 9090]"
      ]
     },
     "execution_count": 35,
     "metadata": {},
     "output_type": "execute_result"
    }
   ],
   "source": [
    "list_of_numbers"
   ]
  },
  {
   "cell_type": "code",
   "execution_count": 38,
   "id": "9ab76eec",
   "metadata": {},
   "outputs": [],
   "source": [
    "list_of_numbers.sort(reverse=True) # to print in descending order\n"
   ]
  },
  {
   "cell_type": "code",
   "execution_count": 39,
   "id": "bc8e1e57",
   "metadata": {},
   "outputs": [
    {
     "data": {
      "text/plain": [
       "[9090, 7560, 1195, 1000, 67, 11.34, 1.03]"
      ]
     },
     "execution_count": 39,
     "metadata": {},
     "output_type": "execute_result"
    }
   ],
   "source": [
    "list_of_numbers"
   ]
  },
  {
   "cell_type": "code",
   "execution_count": 52,
   "id": "d7e037d7",
   "metadata": {},
   "outputs": [
    {
     "data": {
      "text/plain": [
       "[1.03, 11.34, 67, 1000, 1195, 7560, 9090]"
      ]
     },
     "execution_count": 52,
     "metadata": {},
     "output_type": "execute_result"
    }
   ],
   "source": [
    "sorted(list_of_numbers) #another way to sort the list.Default is ascending"
   ]
  },
  {
   "cell_type": "code",
   "execution_count": null,
   "id": "d676ba60",
   "metadata": {},
   "outputs": [],
   "source": []
  },
  {
   "cell_type": "code",
   "execution_count": 53,
   "id": "5785816e",
   "metadata": {},
   "outputs": [
    {
     "data": {
      "text/plain": [
       "[9090, 7560, 1195, 1000, 67, 11.34, 1.03]"
      ]
     },
     "execution_count": 53,
     "metadata": {},
     "output_type": "execute_result"
    }
   ],
   "source": [
    "sorted(list_of_numbers,reverse=True) # descending"
   ]
  },
  {
   "cell_type": "code",
   "execution_count": 54,
   "id": "3322dbb7",
   "metadata": {},
   "outputs": [],
   "source": [
    "list_of_numbers.reverse() # to reverse the list"
   ]
  },
  {
   "cell_type": "code",
   "execution_count": 55,
   "id": "f7265f8f",
   "metadata": {},
   "outputs": [
    {
     "data": {
      "text/plain": [
       "[1.03, 11.34, 67, 1000, 1195, 7560, 9090]"
      ]
     },
     "execution_count": 55,
     "metadata": {},
     "output_type": "execute_result"
    }
   ],
   "source": [
    "list_of_numbers"
   ]
  },
  {
   "cell_type": "code",
   "execution_count": 56,
   "id": "cd158077",
   "metadata": {},
   "outputs": [
    {
     "data": {
      "text/plain": [
       "[1.03, 11.34, 67, 1000, 1195, 7560, 9090]"
      ]
     },
     "execution_count": 56,
     "metadata": {},
     "output_type": "execute_result"
    }
   ],
   "source": [
    "list_of_numbers"
   ]
  },
  {
   "cell_type": "code",
   "execution_count": 57,
   "id": "2d6ac62c",
   "metadata": {},
   "outputs": [],
   "source": [
    "list_of_numbers.reverse()"
   ]
  },
  {
   "cell_type": "code",
   "execution_count": 58,
   "id": "70cf5870",
   "metadata": {},
   "outputs": [
    {
     "data": {
      "text/plain": [
       "[9090, 7560, 1195, 1000, 67, 11.34, 1.03]"
      ]
     },
     "execution_count": 58,
     "metadata": {},
     "output_type": "execute_result"
    }
   ],
   "source": [
    "list_of_numbers"
   ]
  },
  {
   "cell_type": "code",
   "execution_count": 59,
   "id": "3c4d5730",
   "metadata": {},
   "outputs": [],
   "source": [
    "list_of_numbers.insert(3,1213) # inserting 1213 value at 3rd index"
   ]
  },
  {
   "cell_type": "code",
   "execution_count": 60,
   "id": "2f971105",
   "metadata": {},
   "outputs": [
    {
     "data": {
      "text/plain": [
       "[9090, 7560, 1195, 1213, 1000, 67, 11.34, 1.03]"
      ]
     },
     "execution_count": 60,
     "metadata": {},
     "output_type": "execute_result"
    }
   ],
   "source": [
    "list_of_numbers"
   ]
  },
  {
   "cell_type": "code",
   "execution_count": 64,
   "id": "58ec35eb",
   "metadata": {},
   "outputs": [],
   "source": [
    "list_of_numbers.extend([101,102,103]) #adding values at the end of the list"
   ]
  },
  {
   "cell_type": "code",
   "execution_count": 65,
   "id": "97989d5b",
   "metadata": {},
   "outputs": [
    {
     "data": {
      "text/plain": [
       "[9090, 7560, 1195, 1213, 1000, 67, 11.34, 1.03, 101, 102, 103]"
      ]
     },
     "execution_count": 65,
     "metadata": {},
     "output_type": "execute_result"
    }
   ],
   "source": [
    "list_of_numbers"
   ]
  },
  {
   "cell_type": "code",
   "execution_count": 67,
   "id": "8162b092",
   "metadata": {},
   "outputs": [],
   "source": [
    "list_new = list_demo + list_of_numbers # adding lists"
   ]
  },
  {
   "cell_type": "code",
   "execution_count": 72,
   "id": "2a494a74",
   "metadata": {},
   "outputs": [
    {
     "data": {
      "text/plain": [
       "['Shree Ganesh',\n",
       " 'Narayan Narayan',\n",
       " 11,\n",
       " 1978,\n",
       " 13.7,\n",
       " 9090,\n",
       " 7560,\n",
       " 1195,\n",
       " 1213,\n",
       " 1000,\n",
       " 67,\n",
       " 11.34,\n",
       " 1.03,\n",
       " 101,\n",
       " 102,\n",
       " 103]"
      ]
     },
     "execution_count": 72,
     "metadata": {},
     "output_type": "execute_result"
    }
   ],
   "source": [
    "list_new"
   ]
  },
  {
   "cell_type": "code",
   "execution_count": 76,
   "id": "9cfbb214",
   "metadata": {},
   "outputs": [
    {
     "data": {
      "text/plain": [
       "103"
      ]
     },
     "execution_count": 76,
     "metadata": {},
     "output_type": "execute_result"
    }
   ],
   "source": [
    "list_new.pop() # deletes the last record"
   ]
  },
  {
   "cell_type": "code",
   "execution_count": 77,
   "id": "8187fafe",
   "metadata": {},
   "outputs": [
    {
     "data": {
      "text/plain": [
       "['Shree Ganesh',\n",
       " 'Narayan Narayan',\n",
       " 11,\n",
       " 1978,\n",
       " 13.7,\n",
       " 9090,\n",
       " 7560,\n",
       " 1195,\n",
       " 1213,\n",
       " 1000,\n",
       " 67,\n",
       " 11.34,\n",
       " 1.03,\n",
       " 101,\n",
       " 102]"
      ]
     },
     "execution_count": 77,
     "metadata": {},
     "output_type": "execute_result"
    }
   ],
   "source": [
    "list_new"
   ]
  },
  {
   "cell_type": "code",
   "execution_count": 79,
   "id": "4ba6cb62",
   "metadata": {},
   "outputs": [
    {
     "data": {
      "text/plain": [
       "1978"
      ]
     },
     "execution_count": 79,
     "metadata": {},
     "output_type": "execute_result"
    }
   ],
   "source": [
    "list_new.pop(3) # deletes value at 3rd index"
   ]
  },
  {
   "cell_type": "code",
   "execution_count": 80,
   "id": "64f58445",
   "metadata": {},
   "outputs": [
    {
     "data": {
      "text/plain": [
       "['Shree Ganesh',\n",
       " 'Narayan Narayan',\n",
       " 11,\n",
       " 13.7,\n",
       " 9090,\n",
       " 7560,\n",
       " 1195,\n",
       " 1213,\n",
       " 1000,\n",
       " 67,\n",
       " 11.34,\n",
       " 1.03,\n",
       " 101,\n",
       " 102]"
      ]
     },
     "execution_count": 80,
     "metadata": {},
     "output_type": "execute_result"
    }
   ],
   "source": [
    "list_new"
   ]
  },
  {
   "cell_type": "code",
   "execution_count": null,
   "id": "a8e68a52",
   "metadata": {},
   "outputs": [],
   "source": [
    "list"
   ]
  }
 ],
 "metadata": {
  "kernelspec": {
   "display_name": "Python 3 (ipykernel)",
   "language": "python",
   "name": "python3"
  },
  "language_info": {
   "codemirror_mode": {
    "name": "ipython",
    "version": 3
   },
   "file_extension": ".py",
   "mimetype": "text/x-python",
   "name": "python",
   "nbconvert_exporter": "python",
   "pygments_lexer": "ipython3",
   "version": "3.11.5"
  }
 },
 "nbformat": 4,
 "nbformat_minor": 5
}
