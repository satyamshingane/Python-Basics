{
 "cells": [
  {
   "cell_type": "code",
   "execution_count": 2,
   "id": "c42679cb",
   "metadata": {},
   "outputs": [
    {
     "data": {
      "text/plain": [
       "['Shree Ganesh', 'Narayan Narayan', 11, 1978, 13.7]"
      ]
     },
     "execution_count": 2,
     "metadata": {},
     "output_type": "execute_result"
    }
   ],
   "source": [
    "# LISTS\n",
    "#List is a heterogenious data structure , it can also contain homogeneous data\n",
    "\n",
    "list_demo = ['Shree Ganesh', \"Narayan Narayan\",11,1978,13.7] #creating a list\n",
    "list_demo # printing a list. we can aslo use print(list_demo)\n"
   ]
  },
  {
   "cell_type": "code",
   "execution_count": 3,
   "id": "aa4b4972",
   "metadata": {},
   "outputs": [
    {
     "name": "stdout",
     "output_type": "stream",
     "text": [
      "['Shree Ganesh', 'Narayan Narayan', 11, 1978, 13.7]\n"
     ]
    }
   ],
   "source": [
    "print(list_demo)"
   ]
  },
  {
   "cell_type": "code",
   "execution_count": 4,
   "id": "a5ff726f",
   "metadata": {},
   "outputs": [
    {
     "data": {
      "text/plain": [
       "'Shree Ganesh'"
      ]
     },
     "execution_count": 4,
     "metadata": {},
     "output_type": "execute_result"
    }
   ],
   "source": [
    "list_demo[0] #printing  n elements (zeroth in this case). this is called 'slicing'\n"
   ]
  },
  {
   "cell_type": "code",
   "execution_count": 5,
   "id": "c94b92a0",
   "metadata": {},
   "outputs": [
    {
     "data": {
      "text/plain": [
       "13.7"
      ]
     },
     "execution_count": 5,
     "metadata": {},
     "output_type": "execute_result"
    }
   ],
   "source": [
    "list_demo[-1]# revesrse slicing.the last element is -1 st element in reverse slicing"
   ]
  },
  {
   "cell_type": "code",
   "execution_count": 6,
   "id": "a98db87f",
   "metadata": {},
   "outputs": [
    {
     "data": {
      "text/plain": [
       "5"
      ]
     },
     "execution_count": 6,
     "metadata": {},
     "output_type": "execute_result"
    }
   ],
   "source": [
    "len(list_demo) # length of the list i.e how many elements are there"
   ]
  },
  {
   "cell_type": "code",
   "execution_count": 7,
   "id": "e6c24cbd",
   "metadata": {},
   "outputs": [
    {
     "data": {
      "text/plain": [
       "['Shree Ganesh', 'Narayan Narayan', 11, 1978]"
      ]
     },
     "execution_count": 7,
     "metadata": {},
     "output_type": "execute_result"
    }
   ],
   "source": [
    "list_demo[:4]# prinitng range of elements.it has taken zeroth element as the start of range by default"
   ]
  },
  {
   "cell_type": "code",
   "execution_count": 9,
   "id": "1ecbd2fe",
   "metadata": {},
   "outputs": [
    {
     "data": {
      "text/plain": [
       "['Narayan Narayan', 1978]"
      ]
     },
     "execution_count": 9,
     "metadata": {},
     "output_type": "execute_result"
    }
   ],
   "source": [
    "list_demo[1:4:2]# here 2 is interval"
   ]
  },
  {
   "cell_type": "code",
   "execution_count": 10,
   "id": "7b83636a",
   "metadata": {},
   "outputs": [],
   "source": [
    "list_of_numbers = [1195, 11.34, 67, 7560, 1.03, 9090, 1000] #new list"
   ]
  },
  {
   "cell_type": "code",
   "execution_count": 11,
   "id": "14116ebb",
   "metadata": {},
   "outputs": [
    {
     "data": {
      "text/plain": [
       "11.34"
      ]
     },
     "execution_count": 11,
     "metadata": {},
     "output_type": "execute_result"
    }
   ],
   "source": [
    "list_of_numbers[1] # value at the 1st index"
   ]
  },
  {
   "cell_type": "code",
   "execution_count": 34,
   "id": "417171e0",
   "metadata": {},
   "outputs": [
    {
     "data": {
      "text/plain": [
       "<function list.sort(*, key=None, reverse=False)>"
      ]
     },
     "execution_count": 34,
     "metadata": {},
     "output_type": "execute_result"
    }
   ],
   "source": [
    "list_of_numbers.sort # for sorting the list.default is acsending"
   ]
  },
  {
   "cell_type": "code",
   "execution_count": 35,
   "id": "b189e199",
   "metadata": {},
   "outputs": [
    {
     "data": {
      "text/plain": [
       "[1.03, 11.34, 67, 1000, 1195, 7560, 9090]"
      ]
     },
     "execution_count": 35,
     "metadata": {},
     "output_type": "execute_result"
    }
   ],
   "source": [
    "list_of_numbers"
   ]
  },
  {
   "cell_type": "code",
   "execution_count": 38,
   "id": "c06e7520",
   "metadata": {},
   "outputs": [],
   "source": [
    "list_of_numbers.sort(reverse=True) # to print in descending order\n"
   ]
  },
  {
   "cell_type": "code",
   "execution_count": 39,
   "id": "9d69ba9e",
   "metadata": {},
   "outputs": [
    {
     "data": {
      "text/plain": [
       "[9090, 7560, 1195, 1000, 67, 11.34, 1.03]"
      ]
     },
     "execution_count": 39,
     "metadata": {},
     "output_type": "execute_result"
    }
   ],
   "source": [
    "list_of_numbers"
   ]
  },
  {
   "cell_type": "code",
   "execution_count": 52,
   "id": "7f8ac9c8",
   "metadata": {},
   "outputs": [
    {
     "data": {
      "text/plain": [
       "[1.03, 11.34, 67, 1000, 1195, 7560, 9090]"
      ]
     },
     "execution_count": 52,
     "metadata": {},
     "output_type": "execute_result"
    }
   ],
   "source": [
    "sorted(list_of_numbers) #another way to sort the list."
   ]
  },
  {
   "cell_type": "code",
   "execution_count": null,
   "id": "c946cec8",
   "metadata": {},
   "outputs": [],
   "source": []
  },
  {
   "cell_type": "code",
   "execution_count": 53,
   "id": "2f28d9d6",
   "metadata": {},
   "outputs": [
    {
     "data": {
      "text/plain": [
       "[9090, 7560, 1195, 1000, 67, 11.34, 1.03]"
      ]
     },
     "execution_count": 53,
     "metadata": {},
     "output_type": "execute_result"
    }
   ],
   "source": [
    "sorted(list_of_numbers,reverse=True)"
   ]
  },
  {
   "cell_type": "code",
   "execution_count": 54,
   "id": "fdb5b7ca",
   "metadata": {},
   "outputs": [],
   "source": [
    "list_of_numbers.reverse()"
   ]
  },
  {
   "cell_type": "code",
   "execution_count": 55,
   "id": "a99daee4",
   "metadata": {},
   "outputs": [
    {
     "data": {
      "text/plain": [
       "[1.03, 11.34, 67, 1000, 1195, 7560, 9090]"
      ]
     },
     "execution_count": 55,
     "metadata": {},
     "output_type": "execute_result"
    }
   ],
   "source": [
    "list_of_numbers"
   ]
  },
  {
   "cell_type": "code",
   "execution_count": 56,
   "id": "aec281e7",
   "metadata": {},
   "outputs": [
    {
     "data": {
      "text/plain": [
       "[1.03, 11.34, 67, 1000, 1195, 7560, 9090]"
      ]
     },
     "execution_count": 56,
     "metadata": {},
     "output_type": "execute_result"
    }
   ],
   "source": [
    "list_of_numbers"
   ]
  },
  {
   "cell_type": "code",
   "execution_count": 57,
   "id": "a2d88759",
   "metadata": {},
   "outputs": [],
   "source": [
    "list_of_numbers.reverse()"
   ]
  },
  {
   "cell_type": "code",
   "execution_count": 58,
   "id": "7da76d01",
   "metadata": {},
   "outputs": [
    {
     "data": {
      "text/plain": [
       "[9090, 7560, 1195, 1000, 67, 11.34, 1.03]"
      ]
     },
     "execution_count": 58,
     "metadata": {},
     "output_type": "execute_result"
    }
   ],
   "source": [
    "list_of_numbers"
   ]
  },
  {
   "cell_type": "code",
   "execution_count": 59,
   "id": "591854bd",
   "metadata": {},
   "outputs": [],
   "source": [
    "list_of_numbers.insert(3,1213)"
   ]
  },
  {
   "cell_type": "code",
   "execution_count": 60,
   "id": "e2950d9c",
   "metadata": {},
   "outputs": [
    {
     "data": {
      "text/plain": [
       "[9090, 7560, 1195, 1213, 1000, 67, 11.34, 1.03]"
      ]
     },
     "execution_count": 60,
     "metadata": {},
     "output_type": "execute_result"
    }
   ],
   "source": [
    "list_of_numbers"
   ]
  },
  {
   "cell_type": "code",
   "execution_count": 64,
   "id": "f5157adb",
   "metadata": {},
   "outputs": [],
   "source": [
    "list_of_numbers.extend([101,102,103])"
   ]
  },
  {
   "cell_type": "code",
   "execution_count": 65,
   "id": "68cbab4b",
   "metadata": {},
   "outputs": [
    {
     "data": {
      "text/plain": [
       "[9090, 7560, 1195, 1213, 1000, 67, 11.34, 1.03, 101, 102, 103]"
      ]
     },
     "execution_count": 65,
     "metadata": {},
     "output_type": "execute_result"
    }
   ],
   "source": [
    "list_of_numbers"
   ]
  },
  {
   "cell_type": "code",
   "execution_count": 67,
   "id": "60c6dc89",
   "metadata": {},
   "outputs": [],
   "source": [
    "list_new = list_demo + list_of_numbers"
   ]
  },
  {
   "cell_type": "code",
   "execution_count": 72,
   "id": "dbca777f",
   "metadata": {},
   "outputs": [
    {
     "data": {
      "text/plain": [
       "['Shree Ganesh',\n",
       " 'Narayan Narayan',\n",
       " 11,\n",
       " 1978,\n",
       " 13.7,\n",
       " 9090,\n",
       " 7560,\n",
       " 1195,\n",
       " 1213,\n",
       " 1000,\n",
       " 67,\n",
       " 11.34,\n",
       " 1.03,\n",
       " 101,\n",
       " 102,\n",
       " 103]"
      ]
     },
     "execution_count": 72,
     "metadata": {},
     "output_type": "execute_result"
    }
   ],
   "source": [
    "list_new"
   ]
  },
  {
   "cell_type": "code",
   "execution_count": 76,
   "id": "ec82ed9a",
   "metadata": {},
   "outputs": [
    {
     "data": {
      "text/plain": [
       "103"
      ]
     },
     "execution_count": 76,
     "metadata": {},
     "output_type": "execute_result"
    }
   ],
   "source": [
    "list_new.pop()"
   ]
  },
  {
   "cell_type": "code",
   "execution_count": 77,
   "id": "b2ef2419",
   "metadata": {},
   "outputs": [
    {
     "data": {
      "text/plain": [
       "['Shree Ganesh',\n",
       " 'Narayan Narayan',\n",
       " 11,\n",
       " 1978,\n",
       " 13.7,\n",
       " 9090,\n",
       " 7560,\n",
       " 1195,\n",
       " 1213,\n",
       " 1000,\n",
       " 67,\n",
       " 11.34,\n",
       " 1.03,\n",
       " 101,\n",
       " 102]"
      ]
     },
     "execution_count": 77,
     "metadata": {},
     "output_type": "execute_result"
    }
   ],
   "source": [
    "list_new"
   ]
  },
  {
   "cell_type": "code",
   "execution_count": 79,
   "id": "da1d5d68",
   "metadata": {},
   "outputs": [
    {
     "data": {
      "text/plain": [
       "1978"
      ]
     },
     "execution_count": 79,
     "metadata": {},
     "output_type": "execute_result"
    }
   ],
   "source": [
    "list_new.pop(3)"
   ]
  },
  {
   "cell_type": "code",
   "execution_count": 80,
   "id": "e3130efd",
   "metadata": {},
   "outputs": [
    {
     "data": {
      "text/plain": [
       "['Shree Ganesh',\n",
       " 'Narayan Narayan',\n",
       " 11,\n",
       " 13.7,\n",
       " 9090,\n",
       " 7560,\n",
       " 1195,\n",
       " 1213,\n",
       " 1000,\n",
       " 67,\n",
       " 11.34,\n",
       " 1.03,\n",
       " 101,\n",
       " 102]"
      ]
     },
     "execution_count": 80,
     "metadata": {},
     "output_type": "execute_result"
    }
   ],
   "source": [
    "list_new"
   ]
  },
  {
   "cell_type": "code",
   "execution_count": null,
   "id": "6ba86dd2",
   "metadata": {},
   "outputs": [],
   "source": []
  }
 ],
 "metadata": {
  "kernelspec": {
   "display_name": "Python 3 (ipykernel)",
   "language": "python",
   "name": "python3"
  },
  "language_info": {
   "codemirror_mode": {
    "name": "ipython",
    "version": 3
   },
   "file_extension": ".py",
   "mimetype": "text/x-python",
   "name": "python",
   "nbconvert_exporter": "python",
   "pygments_lexer": "ipython3",
   "version": "3.11.5"
  }
 },
 "nbformat": 4,
 "nbformat_minor": 5
}
